{
 "cells": [
  {
   "cell_type": "code",
   "execution_count": 1,
   "id": "fbd5c655-f78f-4bc7-a35a-4f5cbe448738",
   "metadata": {},
   "outputs": [],
   "source": [
    "# You can install scikit image with the following code\n",
    "# !conda install scikit-image"
   ]
  },
  {
   "cell_type": "code",
   "execution_count": 20,
   "id": "795c8af9-a707-4f93-a419-db6103389ca5",
   "metadata": {},
   "outputs": [],
   "source": [
    "import pandas as pd\n",
    "import numpy as np\n",
    "import matplotlib.pyplot as plt\n",
    "\n",
    "from skimage.io import imread, imshow\n",
    "import skimage.filters as filters\n",
    "import skimage.feature as feature\n",
    "from skimage.measure import label\n",
    "import os\n",
    "\n",
    "from tqdm import tqdm\n",
    "\n",
    "from skimage.feature import canny"
   ]
  },
  {
   "cell_type": "code",
   "execution_count": 2,
   "id": "b94f0501-20ca-4893-bb66-f9a6acfc6035",
   "metadata": {},
   "outputs": [
    {
     "name": "stdout",
     "output_type": "stream",
     "text": [
      " Volume in drive C has no label.\n",
      " Volume Serial Number is 5A99-20A3\n",
      "\n",
      " Directory of c:\\Users\\xande\\DS6MLcases\n",
      "\n",
      "13/12/2024  15:20    <DIR>          .\n",
      "13/12/2024  15:20    <DIR>          ..\n",
      "13/12/2024  11:35            24.596 case_study.ipynb\n",
      "13/12/2024  11:35    <DIR>          Reduced MNIST\n",
      "               1 File(s)         24.596 bytes\n",
      "               3 Dir(s)  795.922.284.544 bytes free\n"
     ]
    }
   ],
   "source": [
    "!dir"
   ]
  },
  {
   "cell_type": "code",
   "execution_count": 10,
   "id": "aa56137f-daf4-4047-a245-e6541c5a5315",
   "metadata": {},
   "outputs": [],
   "source": [
    "train_path = r'C:\\Users\\xande\\DS6MLcases\\Reduced MNIST\\Reduced MNIST Data\\Reduced Trainging data\\8'\n",
    "train_files = os.listdir(train_path)"
   ]
  },
  {
   "cell_type": "code",
   "execution_count": 5,
   "id": "07ae30d3-f414-4acf-aad2-73664c1c4668",
   "metadata": {},
   "outputs": [
    {
     "name": "stdout",
     "output_type": "stream",
     "text": [
      "['4852.jpg', '4853.jpg', '4854.jpg', '4855.jpg', '4856.jpg', '4857.jpg', '4858.jpg', '4859.jpg', '4860.jpg', '4861.jpg']\n"
     ]
    }
   ],
   "source": [
    "print(train_files[:10])"
   ]
  },
  {
   "cell_type": "code",
   "execution_count": 17,
   "id": "a0351351-51fd-46c2-b647-819da79f2b77",
   "metadata": {},
   "outputs": [],
   "source": [
    "yappa = train_path + \"\\\\\" + train_files[5]"
   ]
  },
  {
   "cell_type": "code",
   "execution_count": 18,
   "id": "44b58dfd-6904-4468-8841-7b498126d2e7",
   "metadata": {},
   "outputs": [
    {
     "data": {
      "text/plain": [
       "<matplotlib.image.AxesImage at 0x1a71c05cf90>"
      ]
     },
     "execution_count": 18,
     "metadata": {},
     "output_type": "execute_result"
    },
    {
     "data": {
      "image/png": "[encoded data removed]",
      "text/plain": [
       "<Figure size 640x480 with 1 Axes>"
      ]
     },
     "metadata": {},
     "output_type": "display_data"
    }
   ],
   "source": [
    "img = imread(yappa)\n",
    "img = feature.canny(img)\n",
    "filter1 = (img == True).any(axis = 1)\n",
    "plt.imshow(img[filter1], cmap = 'gray')"
   ]
  },
  {
   "cell_type": "code",
   "execution_count": 19,
   "id": "a7b39bf6-070f-4798-aa84-2b62ee81cdc6",
   "metadata": {},
   "outputs": [
    {
     "data": {
      "text/plain": [
       "80"
      ]
     },
     "execution_count": 19,
     "metadata": {},
     "output_type": "execute_result"
    }
   ],
   "source": [
    "img.reshape(784).sum()"
   ]
  },
  {
   "cell_type": "code",
   "execution_count": 25,
   "id": "b95c0fa2",
   "metadata": {},
   "outputs": [],
   "source": [
    "edging = canny(img)\n",
    "\n"
   ]
  },
  {
   "cell_type": "code",
   "execution_count": 26,
   "id": "641c7517",
   "metadata": {},
   "outputs": [],
   "source": [
    "labeled_edging = label(edging)\n",
    "num_edging = labeled_edging.max()"
   ]
  },
  {
   "cell_type": "code",
   "execution_count": null,
   "id": "e639d8d4-7381-48f0-90e1-528dea456c12",
   "metadata": {},
   "outputs": [],
   "source": [
    "def calculate_features(file: str) -> (dict, np.array):\n",
    "    \"\"\"\n",
    "    Calculating features of an image\n",
    "\n",
    "    This function calculates the following features:\n",
    "    - Number of edges\n",
    "    - Height\n",
    "    - Width\n",
    "    - Max number of pixels per column\n",
    "    - Min number of pixel per row\n",
    "    - Total pixels\n",
    "    \"\"\"\n",
    "    # Load your image\n",
    "    train_path = r'C:\\Users\\xande\\DS6MLcases\\Reduced MNIST\\Reduced MNIST Data\\Reduced Trainging data\\8'\n",
    "    train_files = os.listdir(train_path)\n",
    "    print(train_files[:10])\n",
    "\n",
    "    yappa = train_path + \"\\\\\" + train_files[5]\n",
    "    \n",
    "    img = imread(yappa)\n",
    "    img = feature.canny(img)\n",
    "    filter1 = (img == True).any(axis = 1)\n",
    "    plt.imshow(img[filter1], cmap = 'gray')\n",
    "\n",
    "   \n",
    "    edging = canny(img)\n",
    "    labeled_edging = label(edging)\n",
    "    \n",
    "    # Do your calculations here \n",
    "    height, width = img.shape\n",
    "    num_edging = labeled_edging.max()\n",
    "    max_column = np.max(edging.sum(axis=0))\n",
    "    max_row = np.max(edging.sum(axis=1))\n",
    "\n",
    "    total = np.sum(edging)\n",
    "\n",
    "    img_features = {\n",
    "        'Number of edges': num_edging,\n",
    "        'Height of digit': height,\n",
    "        'Width of digit': width,\n",
    "        'Max pixels per column': max_column,\n",
    "        'Max pixels per row': max_row,\n",
    "        'Total pixels': total\n",
    "    }\n",
    "    return img_features, img"
   ]
  },
  {
   "cell_type": "code",
   "execution_count": 13,
   "id": "201d76b3-f0f5-497e-bde4-552baa575e12",
   "metadata": {},
   "outputs": [
    {
     "name": "stderr",
     "output_type": "stream",
     "text": [
      "Extracting training features 0: 100%|██████████████████████████████████████████| 1000/1000 [00:00<00:00, 963322.00it/s]\n",
      "Extracting testing features 0: 100%|█████████████████████████████████████████████| 200/200 [00:00<00:00, 399838.32it/s]\n",
      "Extracting training features 1: 100%|██████████████████████████████████████████| 1000/1000 [00:00<00:00, 966875.06it/s]\n",
      "Extracting testing features 1: 100%|█████████████████████████████████████████████████████████| 200/200 [00:00<?, ?it/s]\n",
      "Extracting training features 2: 100%|██████████████████████████████████████████| 1000/1000 [00:00<00:00, 757094.58it/s]\n",
      "Extracting testing features 2: 100%|█████████████████████████████████████████████| 200/200 [00:00<00:00, 218453.33it/s]\n",
      "Extracting training features 3: 100%|██████████████████████████████████████████| 1000/1000 [00:00<00:00, 810336.94it/s]\n",
      "Extracting testing features 3: 100%|█████████████████████████████████████████████████████████| 200/200 [00:00<?, ?it/s]\n",
      "Extracting training features 4: 100%|█████████████████████████████████████████| 1000/1000 [00:00<00:00, 1000788.36it/s]\n",
      "Extracting testing features 4: 100%|█████████████████████████████████████████████████████████| 200/200 [00:00<?, ?it/s]\n",
      "Extracting training features 5: 100%|█████████████████████████████████████████| 1000/1000 [00:00<00:00, 1904770.21it/s]\n",
      "Extracting testing features 5: 100%|█████████████████████████████████████████████| 200/200 [00:00<00:00, 330000.31it/s]\n",
      "Extracting training features 6: 100%|█████████████████████████████████████████| 1000/1000 [00:00<00:00, 1001983.76it/s]\n",
      "Extracting testing features 6: 100%|█████████████████████████████████████████████| 200/200 [00:00<00:00, 547916.92it/s]\n",
      "Extracting training features 7: 100%|██████████████████████████████████████████| 1000/1000 [00:00<00:00, 659792.98it/s]\n",
      "Extracting testing features 7: 100%|█████████████████████████████████████████████████████████| 200/200 [00:00<?, ?it/s]\n",
      "Extracting training features 8: 100%|█████████████████████████████████████████| 1000/1000 [00:00<00:00, 1325633.38it/s]\n",
      "Extracting testing features 8: 100%|█████████████████████████████████████████████████████████| 200/200 [00:00<?, ?it/s]\n",
      "Extracting training features 9: 100%|██████████████████████████████████████████| 1000/1000 [00:00<00:00, 981582.96it/s]\n",
      "Extracting testing features 9: 100%|█████████████████████████████████████████████████████████| 200/200 [00:00<?, ?it/s]\n"
     ]
    }
   ],
   "source": [
    "for i in range(10):\n",
    "    # Load i^th digit folder\n",
    "    train_path = f'Reduced Trainging data/{i}/'\n",
    "    train_files = os.listdir(train_path)\n",
    "\n",
    "    # For all images, extract the features\n",
    "    for f in tqdm(train_files, desc = f'Extracting training features {i}'):\n",
    "        img_features, img = calculate_features(train_path + f)\n",
    "        continue\n",
    "\n",
    "    # repeat, but for the test data\n",
    "    test_path = f'Reduced Testing data/{i}/'\n",
    "    test_files = os.listdir(test_path)\n",
    "    for f in tqdm(test_files, desc = f'Extracting testing features {i}'):\n",
    "        continue"
   ]
  },
  {
   "cell_type": "code",
   "execution_count": null,
   "id": "9ca9c542-b636-449e-b199-bebdbb618b28",
   "metadata": {},
   "outputs": [],
   "source": []
  }
 ],
 "metadata": {
  "kernelspec": {
   "display_name": "base",
   "language": "python",
   "name": "python3"
  },
  "language_info": {
   "codemirror_mode": {
    "name": "ipython",
    "version": 3
   },
   "file_extension": ".py",
   "mimetype": "text/x-python",
   "name": "python",
   "nbconvert_exporter": "python",
   "pygments_lexer": "ipython3",
   "version": "3.11.4"
  }
 },
 "nbformat": 4,
 "nbformat_minor": 5
}
